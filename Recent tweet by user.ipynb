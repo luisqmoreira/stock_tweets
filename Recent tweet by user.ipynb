{
 "cells": [
  {
   "cell_type": "code",
   "execution_count": null,
   "id": "49761fe1",
   "metadata": {},
   "outputs": [],
   "source": [
    "import tweepy\n",
    "from tweepy.auth import OAuthHandler \n",
    "import pandas as pd\n",
    "import re\n",
    "import datetime\n",
    "secrets_dict ={'API Key': '2IzuBe0WXECoP7nkENGAB1GYJ',\n",
    " 'API Secret': 'wRv9DGQUkjMTNISkJ16Qj73sPB3aHBEB2K9GkZH6uONZywX95t',\n",
    " 'Bearer token': 'AAAAAAAAAAAAAAAAAAAAANNjCQEAAAAA0tQMCT0VtM7NNbjKb5pY%2BUqnzyU%3D5XXmWifVd9R7LJL08OHXaDzdOZttCxETPAycpbsIMCqmxzwSmU',\n",
    " 'Access Token': '1223293246681559042-2pRBktBdT3aH736Q7EgPjLIkON0ame',\n",
    " 'Secret Access Token': '7Ahg4hJ8Cu9ch8yVjMzPUg7y6a2FWG0czAzch7mjqxPgS'}\n",
    "auth = tweepy.OAuthHandler(secrets_dict['API Key'], secrets_dict['API Secret'])\n",
    "auth.set_access_token(secrets_dict['Access Token'], secrets_dict['Secret Access Token'])\n",
    "api = tweepy.API(auth)\n",
    "\n"
   ]
  },
  {
   "cell_type": "code",
   "execution_count": null,
   "id": "5faec691",
   "metadata": {},
   "outputs": [],
   "source": []
  },
  {
   "cell_type": "code",
   "execution_count": null,
   "id": "85f9435d",
   "metadata": {},
   "outputs": [],
   "source": [
    "def account_tweet () :\n",
    "    user = input('please enter a username')\n",
    "    user = str(user)\n",
    "    tweets = api.user_timeline(screen_name = user ,count = 200)\n",
    "    user_tweet = [tweet.text for tweet in tweets]\n",
    "    date_tweet=[tweet.created_at for tweet in tweets]\n",
    "    date = [date.strftime(\"%d %b %Y\") for date in date_tweet] \n",
    "    user_tweet = pd.DataFrame(user_tweet)\n",
    "    user_tweet['Tweet date'] = date\n",
    "    user_tweet.columns = ['Tweet','Date']\n",
    "    return user_tweet"
   ]
  },
  {
   "cell_type": "code",
   "execution_count": null,
   "id": "6d2ba9bc",
   "metadata": {},
   "outputs": [],
   "source": [
    "account_tweet()"
   ]
  },
  {
   "cell_type": "code",
   "execution_count": 39,
   "id": "b276c077",
   "metadata": {},
   "outputs": [
    {
     "ename": "NameError",
     "evalue": "name 'user_tweet' is not defined",
     "output_type": "error",
     "traceback": [
      "\u001b[0;31m---------------------------------------------------------------------------\u001b[0m",
      "\u001b[0;31mNameError\u001b[0m                                 Traceback (most recent call last)",
      "\u001b[0;32m/var/folders/bx/4mbq6kdx7yq1jqkn_7345mqc0000gn/T/ipykernel_6991/3336915788.py\u001b[0m in \u001b[0;36m<module>\u001b[0;34m\u001b[0m\n\u001b[0;32m----> 1\u001b[0;31m \u001b[0mtype\u001b[0m\u001b[0;34m(\u001b[0m\u001b[0muser_tweet\u001b[0m\u001b[0;34m)\u001b[0m\u001b[0;34m\u001b[0m\u001b[0;34m\u001b[0m\u001b[0m\n\u001b[0m",
      "\u001b[0;31mNameError\u001b[0m: name 'user_tweet' is not defined"
     ]
    }
   ],
   "source": []
  },
  {
   "cell_type": "code",
   "execution_count": 37,
   "id": "9def8e44",
   "metadata": {},
   "outputs": [
    {
     "name": "stdout",
     "output_type": "stream",
     "text": [
      "please enter a usernameArthurSpriet\n"
     ]
    },
    {
     "data": {
      "text/html": [
       "<div>\n",
       "<style scoped>\n",
       "    .dataframe tbody tr th:only-of-type {\n",
       "        vertical-align: middle;\n",
       "    }\n",
       "\n",
       "    .dataframe tbody tr th {\n",
       "        vertical-align: top;\n",
       "    }\n",
       "\n",
       "    .dataframe thead th {\n",
       "        text-align: right;\n",
       "    }\n",
       "</style>\n",
       "<table border=\"1\" class=\"dataframe\">\n",
       "  <thead>\n",
       "    <tr style=\"text-align: right;\">\n",
       "      <th></th>\n",
       "      <th>0</th>\n",
       "      <th>Tweet date</th>\n",
       "    </tr>\n",
       "  </thead>\n",
       "  <tbody>\n",
       "    <tr>\n",
       "      <th>0</th>\n",
       "      <td>RT @Shavinz_: T’as la Ligua avec Tebas qui von...</td>\n",
       "      <td>05 Aug 2021</td>\n",
       "    </tr>\n",
       "    <tr>\n",
       "      <th>1</th>\n",
       "      <td>RT @HasPSGWonUCL: Nope.</td>\n",
       "      <td>24 Aug 2020</td>\n",
       "    </tr>\n",
       "    <tr>\n",
       "      <th>2</th>\n",
       "      <td>@GrimQjow @Seasonsart @Sebastiengaune</td>\n",
       "      <td>15 Jun 2020</td>\n",
       "    </tr>\n",
       "    <tr>\n",
       "      <th>3</th>\n",
       "      <td>RT @GrimQjow: ☄️[CONCOURS]☄️\\n\\nOuais les gars...</td>\n",
       "      <td>15 Jun 2020</td>\n",
       "    </tr>\n",
       "    <tr>\n",
       "      <th>4</th>\n",
       "      <td>RT @fabrodu13: 🚨🚨 si vous voyez ces 3 individu...</td>\n",
       "      <td>29 Apr 2020</td>\n",
       "    </tr>\n",
       "    <tr>\n",
       "      <th>...</th>\n",
       "      <td>...</td>\n",
       "      <td>...</td>\n",
       "    </tr>\n",
       "    <tr>\n",
       "      <th>160</th>\n",
       "      <td>RT @Giomosby: 🔴Je crois savoir qui va être #Pr...</td>\n",
       "      <td>15 May 2017</td>\n",
       "    </tr>\n",
       "    <tr>\n",
       "      <th>161</th>\n",
       "      <td>RT @Fabibi_13: \"Allez hop tu vois ce flocage ?...</td>\n",
       "      <td>13 May 2017</td>\n",
       "    </tr>\n",
       "    <tr>\n",
       "      <th>162</th>\n",
       "      <td>RT @WinamaxSport: - C'était quoi ce son ? \\n- ...</td>\n",
       "      <td>13 May 2017</td>\n",
       "    </tr>\n",
       "    <tr>\n",
       "      <th>163</th>\n",
       "      <td>RT @Fabibi_13: Photo d'un stadier lors de la d...</td>\n",
       "      <td>08 May 2017</td>\n",
       "    </tr>\n",
       "    <tr>\n",
       "      <th>164</th>\n",
       "      <td>RT @WinamaxSport: - Un club français ne peut p...</td>\n",
       "      <td>04 May 2017</td>\n",
       "    </tr>\n",
       "  </tbody>\n",
       "</table>\n",
       "<p>165 rows × 2 columns</p>\n",
       "</div>"
      ],
      "text/plain": [
       "                                                     0   Tweet date\n",
       "0    RT @Shavinz_: T’as la Ligua avec Tebas qui von...  05 Aug 2021\n",
       "1                              RT @HasPSGWonUCL: Nope.  24 Aug 2020\n",
       "2                @GrimQjow @Seasonsart @Sebastiengaune  15 Jun 2020\n",
       "3    RT @GrimQjow: ☄️[CONCOURS]☄️\\n\\nOuais les gars...  15 Jun 2020\n",
       "4    RT @fabrodu13: 🚨🚨 si vous voyez ces 3 individu...  29 Apr 2020\n",
       "..                                                 ...          ...\n",
       "160  RT @Giomosby: 🔴Je crois savoir qui va être #Pr...  15 May 2017\n",
       "161  RT @Fabibi_13: \"Allez hop tu vois ce flocage ?...  13 May 2017\n",
       "162  RT @WinamaxSport: - C'était quoi ce son ? \\n- ...  13 May 2017\n",
       "163  RT @Fabibi_13: Photo d'un stadier lors de la d...  08 May 2017\n",
       "164  RT @WinamaxSport: - Un club français ne peut p...  04 May 2017\n",
       "\n",
       "[165 rows x 2 columns]"
      ]
     },
     "execution_count": 37,
     "metadata": {},
     "output_type": "execute_result"
    }
   ],
   "source": []
  },
  {
   "cell_type": "code",
   "execution_count": null,
   "id": "41ff41e8",
   "metadata": {},
   "outputs": [],
   "source": []
  }
 ],
 "metadata": {
  "kernelspec": {
   "display_name": "Python 3 (ipykernel)",
   "language": "python",
   "name": "python3"
  },
  "language_info": {
   "codemirror_mode": {
    "name": "ipython",
    "version": 3
   },
   "file_extension": ".py",
   "mimetype": "text/x-python",
   "name": "python",
   "nbconvert_exporter": "python",
   "pygments_lexer": "ipython3",
   "version": "3.9.7"
  }
 },
 "nbformat": 4,
 "nbformat_minor": 5
}
